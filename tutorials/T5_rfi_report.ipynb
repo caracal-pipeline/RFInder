{
 "cells": [
  {
   "cell_type": "markdown",
   "metadata": {
    "collapsed": true
   },
   "source": [
    "## Report generation"
   ]
  },
  {
   "cell_type": "code",
   "execution_count": 1,
   "metadata": {},
   "outputs": [
    {
     "name": "stdout",
     "output_type": "stream",
     "text": [
      "\t+------+\n",
      "\t  Done \n",
      "\t+------+\n"
     ]
    }
   ],
   "source": [
    "import os, string, sys\n",
    "import numpy as np\n",
    "import pyaml, json\n",
    "from astropy.io import ascii\n",
    "from IPython.display import HTML, display\n",
    "\n",
    "import logging\n",
    "logger = logging.getLogger()\n",
    "\n",
    "import rfinder as rfinder\n",
    "\n",
    "print('\\t+------+\\n\\t  Done \\n\\t+------+')"
   ]
  },
  {
   "cell_type": "code",
   "execution_count": 2,
   "metadata": {},
   "outputs": [
    {
     "name": "stderr",
     "output_type": "stream",
     "text": [
      "INFO:rfinder:\t ... Reading parameter file ... \n",
      "\n"
     ]
    },
    {
     "name": "stdout",
     "output_type": "stream",
     "text": [
      "\t+------+\n",
      "\t RFInder \n",
      "\t Parameter File \n",
      "\t+------+\n",
      "\t+------+\n",
      "\t Parameters Loaded \n",
      "\t+------+\n"
     ]
    }
   ],
   "source": [
    "print('\\t+------+\\n\\t RFInder \\n\\t Parameter File \\n\\t+------+')\n",
    "\n",
    "\n",
    "import rfi\n",
    "rfi = rfi.rfi()\n",
    "\n",
    "rfi_par = rfinder.rfinder()\n",
    "\n",
    "\n",
    "\n",
    "print('\\t+------+\\n\\t Parameters Loaded \\n\\t+------+')"
   ]
  },
  {
   "cell_type": "code",
   "execution_count": 3,
   "metadata": {},
   "outputs": [
    {
     "name": "stdout",
     "output_type": "stream",
     "text": [
      "\t+------+\n",
      "\t Parameters modified \n",
      "\t+------+\n"
     ]
    }
   ],
   "source": [
    "# Set working directory & filenames\n",
    "rfi_par.cfg_par['general']['workdir'] = '/home/maccagni/Projects/MFS/FornaxA/MeerKAT/fa1/msdir/'\n",
    "\n",
    "# Enable / disable modules\n",
    "rfi_par.cfg_par['rfi']['enable'] = True\n",
    "rfi_par.cfg_par['rfi']['RFInder_mode'] = 'use_flags'\n",
    "\n",
    "rfi_par.cfg_par['plots']['enable'] = True\n",
    "\n",
    "#MSFILE\n",
    "rfi_par.cfg_par['general']['msname'] = ['fa1_conc.ms']\n",
    "rfi_par.cfg_par['general']['field'] = 1\n",
    "\n",
    "\n",
    "# CHUNKS\n",
    "#create also tables of data binned in frequency and time\n",
    "rfi_par.cfg_par['rfi']['chunks']['time_enable'] = False\n",
    "rfi_par.cfg_par['rfi']['chunks']['time_step'] = 10 #in minutes\n",
    "\n",
    "rfi_par.cfg_par['rfi']['chunks']['spw_enable'] = True\n",
    "rfi_par.cfg_par['rfi']['chunks']['spw_width'] = 20 #MHz\n",
    "\n",
    "\n",
    "#Options\n",
    "#set separation in long and short baselines\n",
    "rfi_par.cfg_par['rfi']['baselines_cut'] = 200 #m\n",
    "\n",
    "#plotting options\n",
    "rfi_par.cfg_par['plots']['long_short'] = False\n",
    "rfi_par.cfg_par['plots']['plot_noise'] = 'rfi'\n",
    "\n",
    "rfi_par.set_dirs()\n",
    "\n",
    "print('\\t+------+\\n\\t Parameters modified \\n\\t+------+')"
   ]
  },
  {
   "cell_type": "code",
   "execution_count": 4,
   "metadata": {},
   "outputs": [
    {
     "name": "stderr",
     "output_type": "stream",
     "text": [
      "INFO:rfi:\t ... Field, Antenna & Bandwidth Info ...\n",
      "\n",
      "INFO:rfi:\tField with name Fornax (Field ID = 1)\n",
      "INFO:rfi:\tTotal number of antennas:\t16\n",
      "INFO:rfi:\tAntenna names:\t\t[ 0  1  2  3  4  5  6  7  8  9 10 11 12 13 14 15]\n",
      "INFO:rfi:\tChannel Width [kHz]:\t208.984375\n",
      "INFO:rfi:\tStart         [GHz]:\t1.29716601563\n",
      "INFO:rfi:\tEnd           [GHz]:\t1.44345507812\n",
      "\n",
      "INFO:rfinder_stats:\t ...  Observing time Info ... \n",
      "\n",
      "INFO:rfinder_stats:\t Start date: 17Sep07:22:28:15\n",
      "INFO:rfinder_stats:\t End date  : 17Sep08:07:58:31 \n",
      "\n",
      "\n"
     ]
    },
    {
     "name": "stdout",
     "output_type": "stream",
     "text": [
      "Successful readonly open of default-locked table /home/maccagni/Projects/MFS/FornaxA/MeerKAT/fa1/msdir/fa1_conc.ms/FIELD: 9 columns, 4 rows\n",
      "Successful readonly open of default-locked table /home/maccagni/Projects/MFS/FornaxA/MeerKAT/fa1/msdir/fa1_conc.ms/ANTENNA: 8 columns, 16 rows\n",
      "Successful readonly open of default-locked table /home/maccagni/Projects/MFS/FornaxA/MeerKAT/fa1/msdir/fa1_conc.ms/SPECTRAL_WINDOW: 14 columns, 1 rows\n",
      "Successful readonly open of default-locked table /home/maccagni/Projects/MFS/FornaxA/MeerKAT/fa1/msdir/fa1_conc.ms: 27 columns, 475920 rows\n",
      "Successful readonly open of default-locked table /home/maccagni/Projects/MFS/FornaxA/MeerKAT/fa1/msdir/fa1_conc.ms: 27 columns, 475920 rows\n"
     ]
    },
    {
     "name": "stderr",
     "output_type": "stream",
     "text": [
      "INFO:rfinder_stats:\t ... Altitude/Azimuth info ... \n",
      "\n",
      "INFO:rfinder_stats:\t\t ... Altitude = [37.57683783] deg\n",
      "INFO:rfinder_stats:\t\t ... Azimuth = [115.71918503] deg\n",
      "\n",
      "INFO:rfinder_stats:\t ... Alt/Az done ... \n",
      "\n",
      "INFO:rfinder_stats:\t ...  Predicting natural r.m.s. ... \n",
      "\n",
      "INFO:rfinder_stats:\t Assumptions on meerkat telescope\n",
      "INFO:rfinder_stats:\t\tDish diameter = 13.5 m\n",
      "INFO:rfinder_stats:\t\t ... and SEFD = 578.710952 Jy\n",
      "INFO:rfinder_stats:\t\t ... and Tsys = 30.0 K\n",
      "INFO:rfinder_stats:\t Properties of observation\n",
      "INFO:rfinder_stats:\t\t Total number of baselines = 120.0\n",
      "INFO:rfinder_stats:\t\t Total number of channels = 701\n",
      "INFO:rfinder_stats:\t\t Observing time on source = 6.65274 h (2 polarisations)\n",
      "\n",
      "INFO:rfinder_stats:\t Stokes I natural r.m.s.       = 3.734e-01 mJy/b \n",
      "INFO:rfinder_stats:\t ... Natural r.m.s. predicted ... \n",
      "\n",
      "INFO:rfi:\t ... info from MS file loaded  \n",
      "\n",
      "\n",
      "INFO:rfi:\t ... Sorting baselines ... \n",
      "\n",
      "INFO:rfinder_stats:\t ... Baseline info ... \n",
      "\n",
      "INFO:rfinder_stats:\t\t Maximum baseline length     m = 5204.0\n",
      "INFO:rfinder_stats:\t\t Minimum baseline length     m = 29.0\n",
      "INFO:rfinder_stats:\t\t Total number of baselines     = 120.0\n",
      "INFO:rfinder_stats:\t\t Number of baselines < 200 m = 4\n",
      "INFO:rfinder_stats:\t\t Number of baselines > 200 m = 116\n",
      "\n",
      "INFO:rfi:\t ... Matrix of baselines sorted by length loaded ...\n",
      "\n",
      "\n"
     ]
    },
    {
     "name": "stdout",
     "output_type": "stream",
     "text": [
      "\t+------+\n",
      "\t Html stuff loaded \n",
      "\t+------+\n"
     ]
    }
   ],
   "source": [
    "from jinja2 import FileSystemLoader, Environment\n",
    "rfi.load_from_ms(rfi_par.cfg_par,0)\n",
    "rfi.baselines_from_ms(rfi_par.cfg_par)\n",
    "\n",
    "print('\\t+------+\\n\\t Html stuff loaded \\n\\t+------+')"
   ]
  },
  {
   "cell_type": "code",
   "execution_count": 16,
   "metadata": {},
   "outputs": [
    {
     "name": "stdout",
     "output_type": "stream",
     "text": [
      "\t+------+\n",
      "\t Html stuff loaded \n",
      "\t+------+\n"
     ]
    }
   ],
   "source": [
    "# Content to be published\n",
    "import numpy as np\n",
    "# Configure Jinja and ready the template\n",
    "env = Environment(\n",
    "    loader=FileSystemLoader('/home/maccagni/programs/RFInder/report_templates/')\n",
    ")\n",
    "template = env.get_template('rfinder_template.html')\n",
    "\n",
    "#base_template = env.get_template('report.html')\n",
    "# Content to be published\n",
    "title = 'RFI report: {0:s}'.format(rfi_par.cfg_par['general']['msname'])\n",
    "\n",
    "#imagename1 = '/Users/maccagni/Projects/RFI/rfinder_test/rfi/plots/altaz/AltAZ_rfi1297-1317MHz.png'\n",
    "#data_uri1 = open(imagename1, 'rb').read().encode('base64').replace('\\n', '')\n",
    "\n",
    "imagename1 = rfi_par.cfg_par['general']['plotdir']+'rfi_base_full.png'\n",
    "data_uri1 = open(imagename1, 'rb').read().encode('base64').replace('\\n', '')\n",
    "\n",
    "imagename2 = rfi_par.cfg_par['general']['plotdir']+'AltAZ_full.png'\n",
    "data_uri2 = open(imagename2, 'rb').read().encode('base64').replace('\\n', '')\n",
    "\n",
    "imagename3 = rfi_par.cfg_par['general']['plotdir']+'noise_full_sl_rfi.png'\n",
    "data_uri3 = open(imagename3, 'rb').read().encode('base64').replace('\\n', '')\n",
    "\n",
    "video_name1 = rfi_par.cfg_par['general']['moviedir']+'AltAz_movie.gif'\n",
    "video_encoded1 = open(video_name1, \"rb\").read().encode(\"base64\")\n",
    "\n",
    "video_name2 = rfi_par.cfg_par['general']['moviedir']+'Time_2Dplot_movie.gif'\n",
    "video_encoded2 = open(video_name2, \"rb\").read().encode(\"base64\")\n",
    "\n",
    "video_name3 = rfi_par.cfg_par['general']['moviedir']+'TimeChunks_1D_noise.gif'\n",
    "video_encoded3 = open(video_name3, \"rb\").read().encode(\"base64\")\n",
    "\n",
    "with open(rfi_par.cfg_par['general']['rfidir']+'report.html', \"w\") as f:\n",
    "    lenghts = np.array([rfi_par.cfg_par['rfi']['baseline_lenghts']])+0.\n",
    "    f.write(template.render(\n",
    "        title=title,\n",
    "        fieldname=rfi_par.cfg_par['general']['fieldname'],\n",
    "        field=rfi_par.cfg_par['general']['field'],\n",
    "        totchans = int(rfi_par.cfg_par['rfi']['total_channels']),\n",
    "        chan_widths=round(rfi_par.cfg_par['rfi']['chan_widths']/1e3,4),\n",
    "        lowfreq=round(rfi_par.cfg_par['rfi']['lowfreq']/1e6,3),\n",
    "        highfreq=round(rfi_par.cfg_par['rfi']['highfreq']/1e6,3),\n",
    "        startdate = ('{0:%y}{0:%b}{0:%d} {0:%X}'.format(rfi_par.cfg_par['rfi']['startdate'].datetime)),\n",
    "        enddate =   ('{0:%y}{0:%b}{0:%d} {0:%X}'.format(rfi_par.cfg_par['rfi']['enddate'].datetime)),\n",
    "        nant = rfi_par.cfg_par['rfi']['nant'],\n",
    "        ant_names = rfi_par.cfg_par['rfi']['ant_names'],\n",
    "        maxbase = str(np.round(lenghts[0][-1],0)),\n",
    "        minbase = str(np.round(lenghts[0][0],0)),\n",
    "        totbase = rfi_par.cfg_par['rfi']['number_baseline'],\n",
    "        exptime = np.round(rfi_par.cfg_par['rfi']['exptime'],2),\n",
    "        polnum = rfi_par.cfg_par['rfi']['polnum'],\n",
    "        noise = np.round(rfi_par.cfg_par['rfi']['theo_rms'][0]*1e3,5),\n",
    "        img_tag1 = '<img class=\"a\" src=\"data:image/png;base64,{0}\">'.format(data_uri1),\n",
    "        img_tag2 = '<img class=\"b\" src=\"data:image/png;base64,{0}\">'.format(data_uri2),\n",
    "        img_tag3 = '<img class=\"c\" src=\"data:image/png;base64,{0}\">'.format(data_uri3),\n",
    "        video_tag1 = '<img class=\"d\" src=\"data:video/gif;base64,{0}\">'.format(video_encoded1),        \n",
    "        video_tag2 = '<img class=\"e\" src=\"data:video/gif;base64,{0}\">'.format(video_encoded2),        \n",
    "        video_tag3 = '<img class=\"f\" src=\"data:video/gif;base64,{0}\">'.format(video_encoded3)        \n",
    "    ))\n",
    "\n",
    "print('\\t+------+\\n\\t Html stuff loaded \\n\\t+------+')"
   ]
  },
  {
   "cell_type": "code",
   "execution_count": null,
   "metadata": {},
   "outputs": [],
   "source": []
  },
  {
   "cell_type": "code",
   "execution_count": null,
   "metadata": {
    "collapsed": true
   },
   "outputs": [],
   "source": []
  }
 ],
 "metadata": {
  "anaconda-cloud": {},
  "kernelspec": {
   "display_name": "Python 2",
   "language": "python",
   "name": "python2"
  },
  "language_info": {
   "codemirror_mode": {
    "name": "ipython",
    "version": 2
   },
   "file_extension": ".py",
   "mimetype": "text/x-python",
   "name": "python",
   "nbconvert_exporter": "python",
   "pygments_lexer": "ipython2",
   "version": "2.7.15"
  }
 },
 "nbformat": 4,
 "nbformat_minor": 1
}
